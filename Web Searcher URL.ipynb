{
 "cells": [
  {
   "cell_type": "code",
   "execution_count": null,
   "id": "128475d5",
   "metadata": {},
   "outputs": [],
   "source": [
    "from googlesearch import search\n",
    "\n",
    "while True:\n",
    "    def display_google_results(query, num_results=10):\n",
    "        print()\n",
    "        \"\"\"Searches Google for the given query and prints the result URLs.\"\"\"\n",
    "        print()\n",
    "        results = list(search(query, num_results=num_results))\n",
    "        if results:\n",
    "            for index, url in enumerate(results, start=1):\n",
    "                print(f\"Result {index}: {url}\")\n",
    "        else:\n",
    "            print(\"No results found.\")\n",
    "\n",
    "    # Prompt for input and display results\n",
    "    query = input(\"Enter your search query: \")\n",
    "    display_google_results(query)\n"
   ]
  },
  {
   "cell_type": "code",
   "execution_count": null,
   "id": "1d34a3a4",
   "metadata": {},
   "outputs": [],
   "source": []
  }
 ],
 "metadata": {
  "kernelspec": {
   "display_name": "Python 3 (ipykernel)",
   "language": "python",
   "name": "python3"
  },
  "language_info": {
   "codemirror_mode": {
    "name": "ipython",
    "version": 3
   },
   "file_extension": ".py",
   "mimetype": "text/x-python",
   "name": "python",
   "nbconvert_exporter": "python",
   "pygments_lexer": "ipython3",
   "version": "3.12.4"
  }
 },
 "nbformat": 4,
 "nbformat_minor": 5
}
