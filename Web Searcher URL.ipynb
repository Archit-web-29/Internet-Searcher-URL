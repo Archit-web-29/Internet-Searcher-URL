{
 "cells": [
  {
   "cell_type": "code",
   "execution_count": null,
   "id": "7440d658",
   "metadata": {},
   "outputs": [
    {
     "name": "stdout",
     "output_type": "stream",
     "text": [
      "Enter your search query: best car in the world\n",
      "\n",
      "\n",
      "Result 1: https://www.topgear.com/sites/default/files/2022/12/19 sf90.jpeg?sa=X\n",
      "Result 2: https://en.wikipedia.org/wiki/World_Car_Awards\n",
      "Result 3: https://www.cardekho.com/mostpopularcars\n",
      "Result 4: https://www.autocar.co.uk/car-news/best-cars/best-luxury-cars\n",
      "Result 5: https://www.caranddriver.com/features/a62988657/10best-cars-2025/\n",
      "Result 6: https://cars.usnews.com/cars-trucks\n",
      "Result 7: https://www.cars24.com/article/10-most-expensive-cars-in-the-world/\n",
      "Result 8: https://www.worldcarawards.com/\n",
      "Result 9: https://www.carandbike.com/research/top-10-best-cars-in-the-world\n",
      "Result 10: https://www.carwale.com/new/best-cars/\n"
     ]
    }
   ],
   "source": [
    "from googlesearch import search\n",
    "\n",
    "while True:\n",
    "    def display_google_results(query, num_results=10):\n",
    "        print()\n",
    "        \"\"\"Searches Google for the given query and prints the result URLs.\"\"\"\n",
    "        print()\n",
    "        results = list(search(query, num_results=num_results))\n",
    "        if results:\n",
    "            for index, url in enumerate(results, start=1):\n",
    "                print(f\"Result {index}: {url}\")\n",
    "        else:\n",
    "            print(\"No results found.\")\n",
    "\n",
    "    # Prompt for input and display results\n",
    "    query = input(\"Enter your search query: \")\n",
    "    display_google_results(query)\n"
   ]
  },
  {
   "cell_type": "code",
   "execution_count": null,
   "id": "48a49ef6",
   "metadata": {},
   "outputs": [],
   "source": []
  }
 ],
 "metadata": {
  "kernelspec": {
   "display_name": "Python 3 (ipykernel)",
   "language": "python",
   "name": "python3"
  },
  "language_info": {
   "codemirror_mode": {
    "name": "ipython",
    "version": 3
   },
   "file_extension": ".py",
   "mimetype": "text/x-python",
   "name": "python",
   "nbconvert_exporter": "python",
   "pygments_lexer": "ipython3",
   "version": "3.12.4"
  }
 },
 "nbformat": 4,
 "nbformat_minor": 5
}
